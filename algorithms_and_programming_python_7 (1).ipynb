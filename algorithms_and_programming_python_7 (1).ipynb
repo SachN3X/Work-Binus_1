{
  "nbformat": 4,
  "nbformat_minor": 0,
  "metadata": {
    "colab": {
      "provenance": []
    },
    "kernelspec": {
      "name": "python3",
      "display_name": "Python 3"
    },
    "language_info": {
      "name": "python"
    }
  },
  "cells": [
    {
      "cell_type": "code",
      "source": [
        "def writefile():\n",
        "  inputNama = input(\"Masukan Nama anda:\")\n",
        "  inputUmur = input(\"Masukan Umur anda:\")\n",
        "  inputAlamat = input(\"Masukan Alamat anda:\")\n",
        "  inputEmail = input(\"Masukan Email anda:\")\n",
        "  #Create & Write File\n",
        "  filewrite = open(\"Biodata.txt\",\"w\")\n",
        "  filewrite.write(\"Nama:\"+ inputNama + \"\\nUmur\"+ inputUmur + \"\\nAlamat\" + inputAlamat + \"\\nEmail\" + inputEmail)\n",
        "  filewrite.close()\n",
        "def readfile():\n",
        "  # Read File\n",
        "  fileread = open(\"Biodata.txt\", \"r\")\n",
        "  text = fileread.read()\n",
        "  print(\"Berikut ini Data anda\")\n",
        "  print(text)\n",
        "  fileread.close()\n",
        "\n",
        "writefile()\n",
        "print(\"\\n\")\n",
        "readfile()"
      ],
      "metadata": {
        "id": "aFuuK6KYHnTJ"
      },
      "execution_count": null,
      "outputs": []
    },
    {
      "cell_type": "code",
      "source": [],
      "metadata": {
        "id": "YCaxemuwM7mP"
      },
      "execution_count": null,
      "outputs": []
    },
    {
      "cell_type": "markdown",
      "source": [],
      "metadata": {
        "id": "J7-f2Fn3Kp3D"
      }
    }
  ]
}