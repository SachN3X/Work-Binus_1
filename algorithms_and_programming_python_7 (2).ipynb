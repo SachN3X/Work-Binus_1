{
  "nbformat": 4,
  "nbformat_minor": 0,
  "metadata": {
    "colab": {
      "provenance": []
    },
    "kernelspec": {
      "name": "python3",
      "display_name": "Python 3"
    },
    "language_info": {
      "name": "python"
    }
  },
  "cells": [
    {
      "cell_type": "code",
      "source": [
        "def menu():\n",
        "  print(\"\"\"====Prgram File Handling====\n",
        "  1. Membuat dan Menulis File\n",
        "  2. Membaca File\n",
        "  3. Menambahkan Text Pada File\n",
        "  4. keluar Dari Program\n",
        "  \"\"\")\n",
        "def newFile():\n",
        "\n",
        "def readFile():\n",
        "\n",
        "def addFile():\n",
        "\n",
        "def exitFile():\n",
        "\n",
        "\n",
        "Menu = float(input(\"Masukan Pilihan Angka(1/2/3/4)=\"))\n",
        "\n",
        "def writefile():\n",
        "  inputNama = input(\"Masukan Nama anda:\")\n",
        "  inputUmur = input(\"Masukan Umur anda:\")\n",
        "  inputAlamat = input(\"Masukan Alamat anda:\")\n",
        "  inputEmail = input(\"Masukan Email anda:\")\n",
        "  #Create & Write File\n",
        "  filewrite = open(\"Biodata.txt\",\"w\")\n",
        "  filewrite.write(\"Nama:\"+ inputNama + \"\\nUmur\"+ inputUmur + \"\\nAlamat\" + inputAlamat + \"\\nEmail\" + inputEmail)\n",
        "  filewrite.close()\n",
        "def readfile():\n",
        "  # Read File\n",
        "  fileread = open(\"Biodata.txt\", \"r\")\n",
        "  text = fileread.read()\n",
        "  print(\"Berikut ini Data anda\")\n",
        "  print(text)\n",
        "  fileread.close()\n",
        "\n",
        "writefile()\n",
        "print(\"\\n\")\n",
        "readfile()"
      ],
      "metadata": {
        "id": "aFuuK6KYHnTJ"
      },
      "execution_count": null,
      "outputs": []
    },
    {
      "cell_type": "code",
      "source": [
        "import pandas as pd\n",
        "\n",
        "data = {\n",
        "    \"Negara\": [\"Indonesia\", \"Jepang\", \"India\", \"China\", \"Amerika Serikat\", \"Brazil\", \"Russia\", \"Meksiko\", \"Nigeria\", \"Jerman\", \"Aljazair\", \"Inggris\"],\n",
        "    \"Capital\": [\"Jakarta\", \"Tokyo\", \"New Delhi\", \"Beijing\", \"Washington DC\", \"Brasilia\", \"Moscow\", \"Meksiko City\", \"Abuja\", \"Berlin\", \"Aljazair\",\"London\"],\n",
        "    \"Continent\": [\"Asia\", \"Asia\", \"Asia\", \"Asia\", \"Amerika\", \"Amerika\", \"Asia\",\"Amerika\", \"Afrika\", \"Eropa\", \"Afrika\", \"Eropa\"],\n",
        "    \"Area\": [1905, 377, 3287, 9597, 9834, 8515, 17098,1964,923,357,2381,242],\n",
        "    \"Population\": [264, 143, 1252, 1357, 329, 210, 146, 126, 200,83,43,66]\n",
        "}\n",
        "df = pd.DataFrame(data)\n",
        "mean = df.Population.mean()\n",
        "std = df.Area.std()\n",
        "\n",
        "print(df)\n",
        "print(mean)\n",
        "print(std)"
      ],
      "metadata": {
        "id": "YCaxemuwM7mP",
        "colab": {
          "base_uri": "https://localhost:8080/"
        },
        "outputId": "acab09f4-15ab-40d3-fa8f-4f83722a2809"
      },
      "execution_count": 4,
      "outputs": [
        {
          "output_type": "stream",
          "name": "stdout",
          "text": [
            "             Negara        Capital Continent   Area  Population\n",
            "0         Indonesia        Jakarta      Asia   1905         264\n",
            "1            Jepang          Tokyo      Asia    377         143\n",
            "2             India      New Delhi      Asia   3287        1252\n",
            "3             China        Beijing      Asia   9597        1357\n",
            "4   Amerika Serikat  Washington DC   Amerika   9834         329\n",
            "5            Brazil       Brasilia   Amerika   8515         210\n",
            "6            Russia         Moscow      Asia  17098         146\n",
            "7           Meksiko   Meksiko City   Amerika   1964         126\n",
            "8           Nigeria          Abuja    Afrika    923         200\n",
            "9            Jerman         Berlin     Eropa    357          83\n",
            "10         Aljazair       Aljazair    Afrika   2381          43\n",
            "11          Inggris         London     Eropa    242          66\n",
            "351.5833333333333\n",
            "5333.975003066037\n"
          ]
        }
      ]
    },
    {
      "cell_type": "code",
      "source": [
        "import pandas as pd\n",
        "\n",
        "data = {\n",
        "    \"Negara\": [\"Indonesia\", \"Jepang\", \"India\", \"China\", \"Amerika Serikat\", \"Brazil\", \"Russia\", \"Meksiko\", \"Nigeria\", \"Jerman\", \"Aljazair\", \"Inggris\"],\n",
        "    \"Capital\": [\"Jakarta\", \"Tokyo\", \"New Delhi\", \"Beijing\", \"Washington DC\", \"Brasilia\", \"Moscow\", \"Meksiko City\", \"Abuja\", \"Berlin\", \"Aljazair\",\"London\"],\n",
        "    \"Continent\": [\"Asia\", \"Asia\", \"Asia\", \"Asia\", \"Amerika\", \"Amerika\", \"Asia\",\"Amerika\", \"Afrika\", \"Eropa\", \"Afrika\", \"Eropa\"],\n",
        "    \"Area\": [1905, 377, 3287, 9597, 9834, 8515, 17098,1964,923,357,2381,242],\n",
        "    \"Population\": [264, 143, 1252, 1357, 329, 210, 146, 126, 200,83,43,66]\n",
        "}\n",
        "df = pd.DataFrame(data)\n",
        "df.to_csv('countryData.csv', index = False)\n"
      ],
      "metadata": {
        "id": "lz7wsRI9bTap"
      },
      "execution_count": 6,
      "outputs": []
    },
    {
      "cell_type": "markdown",
      "source": [],
      "metadata": {
        "id": "J7-f2Fn3Kp3D"
      }
    }
  ]
}