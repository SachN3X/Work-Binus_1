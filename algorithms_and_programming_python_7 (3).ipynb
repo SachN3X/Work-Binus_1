{
  "nbformat": 4,
  "nbformat_minor": 0,
  "metadata": {
    "colab": {
      "provenance": []
    },
    "kernelspec": {
      "name": "python3",
      "display_name": "Python 3"
    },
    "language_info": {
      "name": "python"
    }
  },
  "cells": [
    {
      "cell_type": "code",
      "execution_count": null,
      "metadata": {
        "id": "fuKzkBiIfwed"
      },
      "outputs": [],
      "source": [
        "import pandas as pd\n",
        "\n",
        "data = {\n",
        "    \"Negara\": [\"Indonesia\", \"Jepang\", \"India\", \"China\", \"Amerika Serikat\", \"Brazil\", \"Russia\", \"Meksiko\", \"Nigeria\", \"Jerman\", \"Aljazair\", \"Inggris\"],\n",
        "    \"Capital\": [\"Jakarta\", \"Tokyo\", \"New Delhi\", \"Beijing\", \"Washington DC\", \"Brasilia\", \"Moscow\", \"Meksiko City\", \"Abuja\", \"Berlin\", \"Aljazair\",\"London\"],\n",
        "    \"Continent\": [\"Asia\", \"Asia\", \"Asia\", \"Asia\", \"Amerika\", \"Amerika\", \"Asia\",\"Amerika\", \"Afrika\", \"Eropa\", \"Afrika\", \"Eropa\"],\n",
        "    \"Area\": [1905, 377, 3287, 9597, 9834, 8515, 17098,1964,923,357,2381,242],\n",
        "    \"Population\": [264, 143, 1252, 1357, 329, 210, 146, 126, 200,83,43,66]\n",
        "}\n",
        "df = pd.DataFrame(data)\n",
        "mean = df.Population.mean()\n",
        "std = df.Area.std()\n",
        "\n",
        "print(df)\n",
        "print(mean)\n",
        "print(std)"
      ]
    }
  ]
}