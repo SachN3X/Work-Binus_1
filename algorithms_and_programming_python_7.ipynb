{
  "nbformat": 4,
  "nbformat_minor": 0,
  "metadata": {
    "colab": {
      "provenance": []
    },
    "kernelspec": {
      "name": "python3",
      "display_name": "Python 3"
    },
    "language_info": {
      "name": "python"
    }
  },
  "cells": [
    {
      "cell_type": "code",
      "execution_count": null,
      "metadata": {
        "id": "HWuQm09S-Jhz"
      },
      "outputs": [],
      "source": [
        "# Write File\n",
        "file = open(\"Test.txt\", \"w\")\n",
        "file.write(\"Azhar Rizki Zulma\")\n",
        "file.close()"
      ]
    },
    {
      "cell_type": "code",
      "source": [
        "# Read File\n",
        "file = open(\"Test.txt\", \"r\")\n",
        "text = file.read()\n",
        "print(text)\n",
        "file.close()"
      ],
      "metadata": {
        "colab": {
          "base_uri": "https://localhost:8080/"
        },
        "id": "iiqu_3jO-iJq",
        "outputId": "b3df6d5b-830d-489c-80dd-beeb3d34f664"
      },
      "execution_count": null,
      "outputs": [
        {
          "output_type": "stream",
          "name": "stdout",
          "text": [
            "Azhar Rizki Zulma\n"
          ]
        }
      ]
    },
    {
      "cell_type": "code",
      "source": [
        "# Add Text\n",
        "file = open(\"Test.txt\", \"a\")\n",
        "file.write(\" - 24 Years - Jakarta\")\n",
        "file.close()"
      ],
      "metadata": {
        "id": "Ws6eX-u2-iOg"
      },
      "execution_count": null,
      "outputs": []
    },
    {
      "cell_type": "code",
      "source": [
        "# Read & Write File\n",
        "file = open(\"Test.txt\", \"r+\")\n",
        "text = file.read()\n",
        "print(text)\n",
        "file.close()"
      ],
      "metadata": {
        "colab": {
          "base_uri": "https://localhost:8080/"
        },
        "id": "0JeaJ6LY-iz4",
        "outputId": "9bf2bb6e-09f5-4e71-86a3-fb7debfe5b05"
      },
      "execution_count": null,
      "outputs": [
        {
          "output_type": "stream",
          "name": "stdout",
          "text": [
            "Azhar Rizki Zulma - 24 Years - Jakarta\n"
          ]
        }
      ]
    },
    {
      "cell_type": "code",
      "source": [
        "def writefile():\n",
        "  inputNama = input(\"Masukan Nama anda:\")\n",
        "  inputUmur = input(\"Masukan Umur anda:\")\n",
        "  inputAlamat = input(\"Masukan Alamat anda:\")\n",
        "  inputEmail = input(\"Masukan Email anda:\")\n",
        "  #Create & Write File\n",
        "  filewrite = open(\"Biodata.txt\",\"w\")\n",
        "  filewrite.write(\"Nama:\"+ inputNama + \"\\nUmur\"+ inputUmur + \"\\nAlamat\" + inputAlamat + \"\\nEmail\" + inputEmail)\n",
        "  filewrite.close()\n",
        "def readfile():\n",
        "  # Read File\n",
        "  fileread = open(\"Biodata.txt\", \"r\")\n",
        "  text = fileread.read()\n",
        "  print(\"Berikut ini Data anda\")\n",
        "  print(text)\n",
        "  fileread.close()\n",
        "\n",
        "writefile()\n",
        "print(\"\\n\")\n",
        "readfile()"
      ],
      "metadata": {
        "id": "aFuuK6KYHnTJ"
      },
      "execution_count": null,
      "outputs": []
    },
    {
      "cell_type": "code",
      "source": [],
      "metadata": {
        "id": "YCaxemuwM7mP"
      },
      "execution_count": null,
      "outputs": []
    },
    {
      "cell_type": "markdown",
      "source": [],
      "metadata": {
        "id": "J7-f2Fn3Kp3D"
      }
    }
  ]
}